{
 "cells": [
  {
   "cell_type": "code",
   "execution_count": 1,
   "id": "5d19016c",
   "metadata": {},
   "outputs": [],
   "source": [
    "import numpy as np\n",
    "from plotly.offline import init_notebook_mode, iplot\n",
    "import plotly.express as px\n",
    "import plotly.graph_objs as go\n",
    "import seaborn as sns\n",
    "import pandas as pd"
   ]
  },
  {
   "cell_type": "code",
   "execution_count": 3,
   "id": "ee99660b",
   "metadata": {},
   "outputs": [
    {
     "name": "stdout",
     "output_type": "stream",
     "text": [
      "50.5 28.28869031963127\n",
      "50.5 28.434134416225863\n"
     ]
    },
    {
     "name": "stderr",
     "output_type": "stream",
     "text": [
      "/tmp/ipykernel_266761/1627683061.py:11: RuntimeWarning:\n",
      "\n",
      "invalid value encountered in double_scalars\n",
      "\n"
     ]
    }
   ],
   "source": [
    "x = np.arange(2, 100)\n",
    "print(np.mean(x), np.std(x))\n",
    "x_ = 0\n",
    "std_ = 0\n",
    "sum_x = 0\n",
    "squared_sum = 0\n",
    "for i, val in enumerate(x, 1):\n",
    "    sum_x += val\n",
    "    squared_sum += val**2\n",
    "    x_ = ((i-1)*x_ + val)/i\n",
    "    std_ = np.sqrt((squared_sum - (sum_x**2)/i)/(i-1))\n",
    "print(x_, std_)"
   ]
  }
 ],
 "metadata": {
  "kernelspec": {
   "display_name": "Python 3 (ipykernel)",
   "language": "python",
   "name": "python3"
  },
  "language_info": {
   "codemirror_mode": {
    "name": "ipython",
    "version": 3
   },
   "file_extension": ".py",
   "mimetype": "text/x-python",
   "name": "python",
   "nbconvert_exporter": "python",
   "pygments_lexer": "ipython3",
   "version": "3.9.16"
  }
 },
 "nbformat": 4,
 "nbformat_minor": 5
}
